{
 "cells": [
  {
   "cell_type": "markdown",
   "id": "edd97254",
   "metadata": {},
   "source": [
    "# Exercice Numpy"
   ]
  },
  {
   "cell_type": "markdown",
   "id": "68a56a43",
   "metadata": {},
   "source": [
    "## Exercice 1 : Les constructeurs"
   ]
  },
  {
   "cell_type": "code",
   "execution_count": 1,
   "id": "ca8e63c9",
   "metadata": {},
   "outputs": [],
   "source": [
    "import numpy as np\n",
    "from numpy import random\n"
   ]
  },
  {
   "cell_type": "code",
   "execution_count": 2,
   "id": "eca19140",
   "metadata": {},
   "outputs": [
    {
     "data": {
      "text/plain": [
       "array([1, 5, 7, 8])"
      ]
     },
     "execution_count": 2,
     "metadata": {},
     "output_type": "execute_result"
    }
   ],
   "source": [
    "#Constructeur du tableau contenant les éléments 1, 5, 7 et 8\n",
    "\n",
    "tableau_1 = np.array([1, 5, 7, 8])\n",
    "tableau_1"
   ]
  },
  {
   "cell_type": "code",
   "execution_count": 3,
   "id": "c4b4cb4e",
   "metadata": {},
   "outputs": [
    {
     "data": {
      "text/plain": [
       "array([1, 2, 3, 4, 5, 6, 7, 8, 9])"
      ]
     },
     "execution_count": 3,
     "metadata": {},
     "output_type": "execute_result"
    }
   ],
   "source": [
    "#Constructeur du tableau contenant les éléments 1, 2, 3, 4, 5, 6, 7, 8 et 9\n",
    "\n",
    "tableau_2 = np.array([1, 2, 3, 4, 5, 6, 7, 8, 9])\n",
    "tableau_2"
   ]
  },
  {
   "cell_type": "code",
   "execution_count": 4,
   "id": "c8d15b1e",
   "metadata": {},
   "outputs": [
    {
     "data": {
      "text/plain": [
       "array([0., 0., 0., 0.])"
      ]
     },
     "execution_count": 4,
     "metadata": {},
     "output_type": "execute_result"
    }
   ],
   "source": [
    "#Constructeur du tableau contenant des 0\n",
    "\n",
    "tableau_3 = np.zeros([4])\n",
    "tableau_3"
   ]
  },
  {
   "cell_type": "code",
   "execution_count": 5,
   "id": "5edabeff",
   "metadata": {},
   "outputs": [
    {
     "name": "stdout",
     "output_type": "stream",
     "text": [
      "[[0. 0. 0. 0.]\n",
      " [0. 0. 0. 0.]]\n"
     ]
    },
    {
     "data": {
      "text/plain": [
       "dtype('float64')"
      ]
     },
     "execution_count": 5,
     "metadata": {},
     "output_type": "execute_result"
    }
   ],
   "source": [
    "#Constructeur du tableau contenant 2 lignes et 4 colonnes rempli de 0\n",
    "\n",
    "tableau_4 = np.zeros([2, 4])\n",
    "print(tableau_4)\n",
    "tableau_4.dtype"
   ]
  },
  {
   "cell_type": "code",
   "execution_count": 6,
   "id": "a1fd463b",
   "metadata": {},
   "outputs": [],
   "source": [
    "#Constructeur du tableau de 2 lignes 5 colonnes rempli de 1\n",
    "\n",
    "tableau_5 = np.ones([2, 5])"
   ]
  },
  {
   "cell_type": "code",
   "execution_count": 7,
   "id": "ab5c6982",
   "metadata": {},
   "outputs": [
    {
     "data": {
      "text/plain": [
       "array([[1., 1., 1., 1., 1.],\n",
       "       [1., 1., 1., 1., 1.]])"
      ]
     },
     "execution_count": 7,
     "metadata": {},
     "output_type": "execute_result"
    }
   ],
   "source": [
    "tableau_5"
   ]
  },
  {
   "cell_type": "code",
   "execution_count": 8,
   "id": "11d2ac21",
   "metadata": {},
   "outputs": [
    {
     "data": {
      "text/plain": [
       "array([8.5, 8.5, 8.5, 8.5, 8.5, 8.5, 8.5, 8.5, 8.5, 8.5])"
      ]
     },
     "execution_count": 8,
     "metadata": {},
     "output_type": "execute_result"
    }
   ],
   "source": [
    "#Constructeur du tableau de 10 éléments rempli 8.5\n",
    "\n",
    "tableau_6 = np.ones([10])*8.5 #ou np.ones(10)*8.5 ou np.full(10,8.5)\n",
    "tableau_6"
   ]
  },
  {
   "cell_type": "code",
   "execution_count": 9,
   "id": "65e50063",
   "metadata": {},
   "outputs": [
    {
     "data": {
      "text/plain": [
       "array([1, 2, 3, 4, 5, 6, 7, 8, 9])"
      ]
     },
     "execution_count": 9,
     "metadata": {},
     "output_type": "execute_result"
    }
   ],
   "source": [
    "#Constructeur du tableau de série d'entiers successifs allant de 1 à 9 inclus\n",
    "\n",
    "tableau_7 = np.arange(1, 10)\n",
    "tableau_7"
   ]
  },
  {
   "cell_type": "code",
   "execution_count": 10,
   "id": "9dc8640e",
   "metadata": {},
   "outputs": [
    {
     "data": {
      "text/plain": [
       "array([[1, 2, 3],\n",
       "       [4, 5, 6],\n",
       "       [7, 8, 9]])"
      ]
     },
     "execution_count": 10,
     "metadata": {},
     "output_type": "execute_result"
    }
   ],
   "source": [
    "#Constructeur du tableau de 3 lignes et 3 colonnes rempli de série d'entiers successifs allant de 1 à 9 inclus\n",
    "\n",
    "tableau_8 = tableau_7.reshape(3, 3)\n",
    "\n",
    "tableau_8\n"
   ]
  },
  {
   "cell_type": "code",
   "execution_count": 11,
   "id": "55f7be15",
   "metadata": {},
   "outputs": [
    {
     "data": {
      "text/plain": [
       "array([[1., 0., 0., 0.],\n",
       "       [0., 1., 0., 0.],\n",
       "       [0., 0., 1., 0.],\n",
       "       [0., 0., 0., 1.]])"
      ]
     },
     "execution_count": 11,
     "metadata": {},
     "output_type": "execute_result"
    }
   ],
   "source": [
    "#Création d'une matrice identé de 4 lignes 4 colonnes\n",
    "\n",
    "matrice_identite = np.eye(4) #ou np.identity(4)\n",
    "matrice_identite"
   ]
  },
  {
   "cell_type": "code",
   "execution_count": 12,
   "id": "2a966e2e",
   "metadata": {},
   "outputs": [
    {
     "data": {
      "text/plain": [
       "array([0.94933287, 0.53700234, 0.05578164, 0.59401551, 0.56790447])"
      ]
     },
     "execution_count": 12,
     "metadata": {},
     "output_type": "execute_result"
    }
   ],
   "source": [
    "#Création d'un tableau rempli de valeurs aléatoires normales centrées en zéro\n",
    "\n",
    "tableau_random1 = random.rand(5)\n",
    "tableau_random1"
   ]
  },
  {
   "cell_type": "code",
   "execution_count": 13,
   "id": "17860f79",
   "metadata": {},
   "outputs": [
    {
     "name": "stdout",
     "output_type": "stream",
     "text": [
      "[ 7  8  4 10  2 10  6  1  9  9  3  9  7  6  9  1  4  7 10  7]\n",
      "20\n"
     ]
    }
   ],
   "source": [
    "#Création d'un tableau rempli de 20 valeurs aléatoires entières comprises entre 1 et 10\n",
    "\n",
    "tableau_random2 = np.random.randint(1,11, size = (20))\n",
    "print(tableau_random2)\n",
    "print(len(tableau_random2))"
   ]
  },
  {
   "cell_type": "code",
   "execution_count": 14,
   "id": "5a990414",
   "metadata": {},
   "outputs": [
    {
     "data": {
      "text/plain": [
       "array([[ 7,  8,  4, 10,  2],\n",
       "       [10,  6,  1,  9,  9],\n",
       "       [ 3,  9,  7,  6,  9],\n",
       "       [ 1,  4,  7, 10,  7]])"
      ]
     },
     "execution_count": 14,
     "metadata": {},
     "output_type": "execute_result"
    }
   ],
   "source": [
    "#Transformation du tableau précédent en matrice de 4 lignes et 5 colonnes\n",
    "lst1 = tableau_random2\n",
    "\n",
    "lst1.reshape(4,5)\n"
   ]
  },
  {
   "cell_type": "code",
   "execution_count": 15,
   "id": "70136069",
   "metadata": {},
   "outputs": [
    {
     "name": "stdout",
     "output_type": "stream",
     "text": [
      "[[0.36718397 0.36718397 0.36718397]\n",
      " [0.36718397 0.36718397 0.36718397]\n",
      " [0.36718397 0.36718397 0.36718397]]\n"
     ]
    }
   ],
   "source": [
    "#Créer un tableau de 5 éléments compris entre 0 et 1 avec une amplitude égale 5\n",
    "n = random.rand(1)\n",
    "#n += 1\n",
    "amplitude_egale = np.full((3, 3), n)\n",
    "\n",
    "print(amplitude_egale)"
   ]
  },
  {
   "cell_type": "markdown",
   "id": "a398661a",
   "metadata": {},
   "source": [
    "## Exercice 2 : Les attributs d'un tableau numpy"
   ]
  },
  {
   "cell_type": "markdown",
   "id": "db7d2368",
   "metadata": {},
   "source": [
    "## Soit le tableau a = np.array([[1,2,3],[4,5,6],[7,8,9]])\n",
    "\n",
    "\n",
    "\n"
   ]
  },
  {
   "cell_type": "code",
   "execution_count": 16,
   "id": "7c20f73a",
   "metadata": {},
   "outputs": [
    {
     "name": "stdout",
     "output_type": "stream",
     "text": [
      "Nombre ligne: 3\n",
      "Nombre colonne: 3\n"
     ]
    }
   ],
   "source": [
    "#Affichons le nombre de lignes et de colonnes de a\n",
    "\n",
    "a = np.array([[1,2,3],[4,5,6],[7,8,9]])\n",
    "a_ligne_colonne = a.shape\n",
    "a_ligne = a_ligne_colonne[0]\n",
    "a_colonne = a_ligne_colonne[1]\n",
    "print(f\"Nombre ligne: {a_ligne}\")\n",
    "print(f\"Nombre colonne: {a_colonne}\")"
   ]
  },
  {
   "cell_type": "code",
   "execution_count": 17,
   "id": "12a98bcb",
   "metadata": {},
   "outputs": [
    {
     "name": "stdout",
     "output_type": "stream",
     "text": [
      "Dimension: 2\n"
     ]
    }
   ],
   "source": [
    "#Affichons la dimension de mon tableau\n",
    "a_dimension = a.ndim\n",
    "print(f\"Dimension: {a_dimension}\")"
   ]
  },
  {
   "cell_type": "code",
   "execution_count": 18,
   "id": "d48202fb",
   "metadata": {},
   "outputs": [
    {
     "name": "stdout",
     "output_type": "stream",
     "text": [
      "Nombre élément: 9\n"
     ]
    }
   ],
   "source": [
    "#Affichons le nombre d'élément de mon tableau\n",
    "a_nombre_element = a.size\n",
    "print(f\"Nombre élément: {a_nombre_element}\")\n"
   ]
  },
  {
   "cell_type": "code",
   "execution_count": 19,
   "id": "25b2dfb3",
   "metadata": {},
   "outputs": [
    {
     "data": {
      "text/plain": [
       "dtype('int64')"
      ]
     },
     "execution_count": 19,
     "metadata": {},
     "output_type": "execute_result"
    }
   ],
   "source": [
    "#Affichons le type des éléments du tableau\n",
    "a_dtype = a.dtype\n",
    "a_dtype"
   ]
  },
  {
   "cell_type": "markdown",
   "id": "cb66ade8",
   "metadata": {},
   "source": [
    "## Exercice 3 : Indexing, slicing, subsetting, masking"
   ]
  },
  {
   "cell_type": "code",
   "execution_count": 20,
   "id": "e5450fba",
   "metadata": {},
   "outputs": [
    {
     "data": {
      "text/plain": [
       "5"
      ]
     },
     "execution_count": 20,
     "metadata": {},
     "output_type": "execute_result"
    }
   ],
   "source": [
    "#Affichons la valeur 5 qui est dans le tableau\n",
    "a = np.array([\n",
    "    [1,2,3],\n",
    "    [4,5,6],\n",
    "    [7,8,9]\n",
    "])\n",
    "a_slice_5 = a[1,1]\n",
    "a_slice_5"
   ]
  },
  {
   "cell_type": "code",
   "execution_count": 21,
   "id": "538a6693",
   "metadata": {},
   "outputs": [
    {
     "data": {
      "text/plain": [
       "array([[1, 2, 3],\n",
       "       [4, 0, 6],\n",
       "       [7, 8, 9]])"
      ]
     },
     "execution_count": 21,
     "metadata": {},
     "output_type": "execute_result"
    }
   ],
   "source": [
    "#Remplaçons le 5 qui est dans le tableau par 0\n",
    "a[1, 1] = 0\n",
    "a"
   ]
  },
  {
   "cell_type": "code",
   "execution_count": 22,
   "id": "e914fc5e",
   "metadata": {},
   "outputs": [
    {
     "data": {
      "text/plain": [
       "array([3, 6, 9])"
      ]
     },
     "execution_count": 22,
     "metadata": {},
     "output_type": "execute_result"
    }
   ],
   "source": [
    "#Affichons les chiffres 3, 6 et 9 du tableau\n",
    "a_slicing_3_6_9 = a[:,-1]\n",
    "a_slicing_3_6_9"
   ]
  },
  {
   "cell_type": "code",
   "execution_count": 23,
   "id": "f9a0004c",
   "metadata": {},
   "outputs": [
    {
     "data": {
      "text/plain": [
       "array([[6, 6, 4],\n",
       "       [5, 3, 1],\n",
       "       [9, 8, 3],\n",
       "       [0, 8, 7]])"
      ]
     },
     "execution_count": 23,
     "metadata": {},
     "output_type": "execute_result"
    }
   ],
   "source": [
    "#créer un tableau de 4 lignes et 3 colonnes rempli de 12 nombres entiers aléatoires compris entre 0 et 9\n",
    "new_tableau_random = np.random.randint(10, size=(4,3))\n",
    "new_tableau_random"
   ]
  },
  {
   "cell_type": "code",
   "execution_count": 24,
   "id": "10921ffe",
   "metadata": {},
   "outputs": [
    {
     "name": "stdout",
     "output_type": "stream",
     "text": [
      "4 est inférieur à 5\n",
      "3 est inférieur à 5\n",
      "1 est inférieur à 5\n",
      "3 est inférieur à 5\n",
      "0 est inférieur à 5\n"
     ]
    },
    {
     "data": {
      "text/plain": [
       "True"
      ]
     },
     "execution_count": 24,
     "metadata": {},
     "output_type": "execute_result"
    }
   ],
   "source": [
    "#Vérifier qu’il y a des nombres inférieur à 5\n",
    "for index in new_tableau_random:\n",
    "    for i in index:\n",
    "        if i < 5:\n",
    "            print(f\"{i} est inférieur à 5\")\n",
    "\n",
    "            \n",
    "check = np.any(new_tableau_random < 5)\n",
    "check\n",
    "\n",
    "#np.new_tableau_random\n",
    "        "
   ]
  },
  {
   "cell_type": "code",
   "execution_count": 25,
   "id": "28f7abe9",
   "metadata": {},
   "outputs": [
    {
     "data": {
      "text/plain": [
       "array([[0, 0, 0],\n",
       "       [0, 0, 0],\n",
       "       [0, 0, 0],\n",
       "       [0, 0, 0]])"
      ]
     },
     "execution_count": 25,
     "metadata": {},
     "output_type": "execute_result"
    }
   ],
   "source": [
    "#Remplacer les nombres inférieurs à 5 par 0\n",
    "np.where(check ,0, new_tableau_random )\n",
    "            "
   ]
  },
  {
   "cell_type": "markdown",
   "id": "ed096a97",
   "metadata": {},
   "source": [
    "## Exercice 4"
   ]
  },
  {
   "cell_type": "code",
   "execution_count": 26,
   "id": "07937158",
   "metadata": {},
   "outputs": [
    {
     "data": {
      "text/plain": [
       "array([[7, 1, 1],\n",
       "       [3, 7, 5],\n",
       "       [0, 4, 5],\n",
       "       [0, 8, 6]])"
      ]
     },
     "execution_count": 26,
     "metadata": {},
     "output_type": "execute_result"
    }
   ],
   "source": [
    "#Créer un tableau de 4 lignes et 3 colonnes rempli de 12 nombres entiers aléatoires compris entre 0 et 9\n",
    "mon_tableau = np.random.randint(10, size=(4,3))\n",
    "mon_tableau"
   ]
  },
  {
   "cell_type": "code",
   "execution_count": 27,
   "id": "b5e93dc6",
   "metadata": {},
   "outputs": [
    {
     "data": {
      "text/plain": [
       "dtype('int64')"
      ]
     },
     "execution_count": 27,
     "metadata": {},
     "output_type": "execute_result"
    }
   ],
   "source": [
    "#Quel est le type des éléments du tableau ?\n",
    "type_tableau = mon_tableau.dtype\n",
    "type_tableau"
   ]
  },
  {
   "cell_type": "code",
   "execution_count": 28,
   "id": "dfb48adb",
   "metadata": {},
   "outputs": [
    {
     "data": {
      "text/plain": [
       "dtype('float32')"
      ]
     },
     "execution_count": 28,
     "metadata": {},
     "output_type": "execute_result"
    }
   ],
   "source": [
    "#Changer de type des éléments du tableau en float32\n",
    "new_type = mon_tableau.astype('float32')\n",
    "new_type.dtype"
   ]
  },
  {
   "cell_type": "code",
   "execution_count": 29,
   "id": "489b513f",
   "metadata": {},
   "outputs": [
    {
     "data": {
      "text/plain": [
       "array([7., 1., 1., 3., 7., 5., 0., 4., 5., 0., 8., 6., 3.])"
      ]
     },
     "execution_count": 29,
     "metadata": {},
     "output_type": "execute_result"
    }
   ],
   "source": [
    "#Ajouter le chiffre 3 à la fin du tableau à une dimension\n",
    "new_tableau = np.append(new_type, 3)\n",
    "new_tableau"
   ]
  },
  {
   "cell_type": "code",
   "execution_count": 30,
   "id": "902b3aa8",
   "metadata": {},
   "outputs": [
    {
     "data": {
      "text/plain": [
       "array([[7., 1., 1., 3.],\n",
       "       [7., 5., 0., 4.],\n",
       "       [5., 0., 8., 6.]])"
      ]
     },
     "execution_count": 30,
     "metadata": {},
     "output_type": "execute_result"
    }
   ],
   "source": [
    "#Transformer le tableau en matrice dénommée “a” de 3 lignes et 4 colonnes\n",
    "new_tableau = np.delete(new_tableau, -1)\n",
    "a = new_tableau.reshape(3,4)\n",
    "a"
   ]
  },
  {
   "cell_type": "code",
   "execution_count": 31,
   "id": "7a80e2e4",
   "metadata": {},
   "outputs": [
    {
     "data": {
      "text/plain": [
       "array([[ 1,  2,  3,  4],\n",
       "       [ 5,  6,  7,  8],\n",
       "       [ 9, 10, 11, 12]])"
      ]
     },
     "execution_count": 31,
     "metadata": {},
     "output_type": "execute_result"
    }
   ],
   "source": [
    "#Créons une matrice dénommée “b” de 3 lignes et 4 colonnes remplie de série d'entiers successifs allant de 1 à 12 inclus\n",
    "b = np.arange(1,13)\n",
    "b = b.reshape(3, 4)\n",
    "b"
   ]
  },
  {
   "cell_type": "code",
   "execution_count": 32,
   "id": "b883f384",
   "metadata": {},
   "outputs": [
    {
     "data": {
      "text/plain": [
       "array([[ 7.,  1.,  1.,  3.,  1.,  2.,  3.,  4.],\n",
       "       [ 7.,  5.,  0.,  4.,  5.,  6.,  7.,  8.],\n",
       "       [ 5.,  0.,  8.,  6.,  9., 10., 11., 12.]])"
      ]
     },
     "execution_count": 32,
     "metadata": {},
     "output_type": "execute_result"
    }
   ],
   "source": [
    "#Créons une matrice dénommée “c” qui est la concaténation des deux tableaux “a” et “b” dans le sens horizontale\n",
    "c=np.hstack((a,b))\n",
    "c"
   ]
  },
  {
   "cell_type": "code",
   "execution_count": 33,
   "id": "b1531ed1",
   "metadata": {},
   "outputs": [
    {
     "data": {
      "text/plain": [
       "array([[ 7.,  1.,  1.,  3.],\n",
       "       [ 7.,  5.,  0.,  4.],\n",
       "       [ 5.,  0.,  8.,  6.],\n",
       "       [ 1.,  2.,  3.,  4.],\n",
       "       [ 5.,  6.,  7.,  8.],\n",
       "       [ 9., 10., 11., 12.]])"
      ]
     },
     "execution_count": 33,
     "metadata": {},
     "output_type": "execute_result"
    }
   ],
   "source": [
    "d=np.vstack((a,b))\n",
    "d"
   ]
  },
  {
   "cell_type": "code",
   "execution_count": 34,
   "id": "e2c61826",
   "metadata": {},
   "outputs": [
    {
     "data": {
      "text/plain": [
       "array([ 7.,  1.,  1.,  3.,  7.,  5.,  0.,  4.,  5.,  0.,  8.,  6.,  1.,\n",
       "        2.,  3.,  4.,  5.,  6.,  7.,  8.,  9., 10., 11., 12.])"
      ]
     },
     "execution_count": 34,
     "metadata": {},
     "output_type": "execute_result"
    }
   ],
   "source": [
    "#Aplatissons le tableau d\n",
    "d = np.ravel(d)\n",
    "d"
   ]
  },
  {
   "cell_type": "code",
   "execution_count": 35,
   "id": "daa04b85",
   "metadata": {},
   "outputs": [
    {
     "data": {
      "text/plain": [
       "array([ 7.,  1.,  1.,  3.,  7.,  5.,  0.,  4.,  5.,  0.,  8.,  6.,  1.,\n",
       "        2.,  3.,  4.,  5.,  6.,  7.,  8.,  9., 10., 11.])"
      ]
     },
     "execution_count": 35,
     "metadata": {},
     "output_type": "execute_result"
    }
   ],
   "source": [
    "#Supprimons le dernier élément du tableau\n",
    "d= np.delete(d,-1)\n",
    "d\n",
    "  "
   ]
  },
  {
   "cell_type": "markdown",
   "id": "f6de178e",
   "metadata": {},
   "source": [
    "## Exercice : Statistique avec numpy"
   ]
  },
  {
   "cell_type": "code",
   "execution_count": 36,
   "id": "39918373",
   "metadata": {},
   "outputs": [
    {
     "name": "stdout",
     "output_type": "stream",
     "text": [
      "[[1 2 3]\n",
      " [4 5 6]\n",
      " [7 8 9]]\n",
      "45\n"
     ]
    }
   ],
   "source": [
    "a = np.array([[1,2,3],[4,5,6],[7,8,9]])\n",
    "#Affichons la somme des éléments du tableau\n",
    "a_somme = a.sum()\n",
    "print(a)\n",
    "print(a_somme)"
   ]
  },
  {
   "cell_type": "code",
   "execution_count": 37,
   "id": "2de8eae3",
   "metadata": {},
   "outputs": [
    {
     "data": {
      "text/plain": [
       "array([12, 15, 18])"
      ]
     },
     "execution_count": 37,
     "metadata": {},
     "output_type": "execute_result"
    }
   ],
   "source": [
    "#Affichons la somme des éléments du tableau par colonne\n",
    "a.sum(axis=0)"
   ]
  },
  {
   "cell_type": "code",
   "execution_count": 38,
   "id": "7ddac5a0",
   "metadata": {},
   "outputs": [
    {
     "data": {
      "text/plain": [
       "array([ 6, 15, 24])"
      ]
     },
     "execution_count": 38,
     "metadata": {},
     "output_type": "execute_result"
    }
   ],
   "source": [
    "#Affichons la somme des éléments du tableau par ligne\n",
    "a_somme_list = a.sum(axis=1)\n",
    "a_somme_list"
   ]
  },
  {
   "cell_type": "code",
   "execution_count": 39,
   "id": "15a37d4a",
   "metadata": {},
   "outputs": [
    {
     "data": {
      "text/plain": [
       "array([ 28,  80, 162])"
      ]
     },
     "execution_count": 39,
     "metadata": {},
     "output_type": "execute_result"
    }
   ],
   "source": [
    "#Affichons le produit des éléments du tableau par colonne\n",
    "prodruit_colonne = np.prod(a, axis=0)\n",
    "prodruit_colonne"
   ]
  },
  {
   "cell_type": "code",
   "execution_count": 40,
   "id": "9e7d6a70",
   "metadata": {},
   "outputs": [
    {
     "data": {
      "text/plain": [
       "1"
      ]
     },
     "execution_count": 40,
     "metadata": {},
     "output_type": "execute_result"
    }
   ],
   "source": [
    "#Affichons le minimum du tableau\n",
    "a_min = a.min()\n",
    "a_min"
   ]
  },
  {
   "cell_type": "code",
   "execution_count": 41,
   "id": "3ece50e9",
   "metadata": {},
   "outputs": [
    {
     "data": {
      "text/plain": [
       "9"
      ]
     },
     "execution_count": 41,
     "metadata": {},
     "output_type": "execute_result"
    }
   ],
   "source": [
    "#Affichons la mayonne des éléments du tableau\n",
    "a_max = a.max()\n",
    "a_max\n",
    "     "
   ]
  },
  {
   "cell_type": "code",
   "execution_count": 42,
   "id": "53fc6937",
   "metadata": {},
   "outputs": [
    {
     "data": {
      "text/plain": [
       "6.666666666666667"
      ]
     },
     "execution_count": 42,
     "metadata": {},
     "output_type": "execute_result"
    }
   ],
   "source": [
    "#Affichons la variance des éléments du tableau\n",
    "a_var = a.var()\n",
    "a_var\n",
    "     "
   ]
  },
  {
   "cell_type": "code",
   "execution_count": 43,
   "id": "cd3f32b2",
   "metadata": {},
   "outputs": [
    {
     "data": {
      "text/plain": [
       "2.581988897471611"
      ]
     },
     "execution_count": 43,
     "metadata": {},
     "output_type": "execute_result"
    }
   ],
   "source": [
    "#Afficher l’écart type des éléments du tableau\n",
    "a_sts = a.std()\n",
    "a_sts"
   ]
  },
  {
   "cell_type": "code",
   "execution_count": null,
   "id": "a4d4dd33",
   "metadata": {},
   "outputs": [],
   "source": []
  }
 ],
 "metadata": {
  "kernelspec": {
   "display_name": "Python 3 (ipykernel)",
   "language": "python",
   "name": "python3"
  },
  "language_info": {
   "codemirror_mode": {
    "name": "ipython",
    "version": 3
   },
   "file_extension": ".py",
   "mimetype": "text/x-python",
   "name": "python",
   "nbconvert_exporter": "python",
   "pygments_lexer": "ipython3",
   "version": "3.9.12"
  }
 },
 "nbformat": 4,
 "nbformat_minor": 5
}
